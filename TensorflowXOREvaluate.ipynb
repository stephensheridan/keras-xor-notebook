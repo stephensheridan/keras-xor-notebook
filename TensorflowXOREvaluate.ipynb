{
 "cells": [
  {
   "cell_type": "code",
   "execution_count": 1,
   "metadata": {},
   "outputs": [],
   "source": [
    "# Import all of the libraries that we need\n",
    "import tensorflow as tf\n",
    "from tensorflow import keras\n",
    "import numpy as np\n",
    "import csv"
   ]
  },
  {
   "cell_type": "code",
   "execution_count": 2,
   "metadata": {},
   "outputs": [
    {
     "name": "stdout",
     "output_type": "stream",
     "text": [
      "Training inputs  [[0.0, 0.0], [0.0, 1.0], [1.0, 0.0], [1.0, 1.0]]\n",
      "Desired outputs  [[0.0], [1.0], [1.0], [0.0]]\n"
     ]
    }
   ],
   "source": [
    "# Path to training or evaluation file\n",
    "INPUT_FILE = \"data/xor-train.csv\"\n",
    "\n",
    "# Path to model file - weights will be saved here\n",
    "MODEL_FILE = \"data/xor-model\"\n",
    "\n",
    "# Array for the input features\n",
    "trainx = []\n",
    "# Array for the output labels/features\n",
    "trainy = []\n",
    "\n",
    "# Load inputs and labels from disk\n",
    "# NOTE: assumes 2 inputs followed by 1 label\n",
    "# NOTE: files assumed to be located in a data directory\n",
    "with open(INPUT_FILE, 'r') as csvfile:\n",
    "    input_data = csv.reader(csvfile, delimiter=',')\n",
    "    for row in input_data:\n",
    "        trainx.append([float(row[0]), float(row[1])])\n",
    "        trainy.append([float(row[2])])\n",
    "\n",
    "# the four different states of the XOR gate\n",
    "training_data = np.array(trainx, \"float32\")\n",
    "# the four expected results in the same order\n",
    "target_data = np.array(trainy, \"float32\")\n",
    "\n",
    "# Print the training and target data\n",
    "print('Training inputs ', trainx)\n",
    "print('Desired outputs ', trainy)"
   ]
  },
  {
   "cell_type": "code",
   "execution_count": 3,
   "metadata": {},
   "outputs": [],
   "source": [
    "# It can be used to reconstruct the model identically.\n",
    "reconstructed_model = keras.models.load_model(MODEL_FILE)"
   ]
  },
  {
   "cell_type": "code",
   "execution_count": 4,
   "metadata": {},
   "outputs": [
    {
     "name": "stdout",
     "output_type": "stream",
     "text": [
      "Input=[0. 0.], Desired=[0.], Predicted=[0.06278527], Accuracy=[93.72147]\n",
      "Input=[0. 1.], Desired=[1.], Predicted=[0.92280024], Accuracy=[92.28002]\n",
      "Input=[1. 0.], Desired=[1.], Predicted=[0.9174374], Accuracy=[91.74374]\n",
      "Input=[1. 1.], Desired=[0.], Predicted=[0.09396008], Accuracy=[90.604]\n"
     ]
    }
   ],
   "source": [
    "# Run the model and see what the results are\n",
    "predictions = reconstructed_model.predict(training_data)\n",
    "\n",
    "# show the inputs and predicted outputs\n",
    "for i in range(len(training_data)):\n",
    "    pred_accuracy = (1 - abs(target_data[i] - predictions[i]))*100\n",
    "    print(\"Input=%s, Desired=%s, Predicted=%s, Accuracy=%s\" % (training_data[i], target_data[i], predictions[i], pred_accuracy))"
   ]
  },
  {
   "cell_type": "code",
   "execution_count": null,
   "metadata": {},
   "outputs": [],
   "source": []
  }
 ],
 "metadata": {
  "kernelspec": {
   "display_name": "Python 3",
   "language": "python",
   "name": "python3"
  },
  "language_info": {
   "codemirror_mode": {
    "name": "ipython",
    "version": 3
   },
   "file_extension": ".py",
   "mimetype": "text/x-python",
   "name": "python",
   "nbconvert_exporter": "python",
   "pygments_lexer": "ipython3",
   "version": "3.8.3"
  }
 },
 "nbformat": 4,
 "nbformat_minor": 4
}
