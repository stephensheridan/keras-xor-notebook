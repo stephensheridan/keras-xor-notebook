{
 "cells": [
  {
   "cell_type": "code",
   "execution_count": 1,
   "metadata": {},
   "outputs": [
    {
     "name": "stdout",
     "output_type": "stream",
     "text": [
      "Tensorflow version 2.4.1\n"
     ]
    }
   ],
   "source": [
    "# Import the libraries that we need\n",
    "import numpy as np\n",
    "import pandas as pd\n",
    "import tensorflow as tf\n",
    "from keras.callbacks import CSVLogger\n",
    "from keras.models import Sequential\n",
    "from keras.layers.core import Dense\n",
    "from keras.optimizers import SGD\n",
    "from keras import backend\n",
    "import matplotlib.pyplot as plt\n",
    "import csv\n",
    "import pylab\n",
    "import time\n",
    "\n",
    "# Set the error log level - removes warning messages\n",
    "tf.get_logger().setLevel('ERROR')\n",
    "# Setup the figure size for plots\n",
    "pylab.rcParams['figure.figsize'] = (13.0, 5.0)\n",
    "\n",
    "# Setup some Globals\n",
    "# Acceptable model tolerance\n",
    "TOLERANCE = 0.1\n",
    "# Number of Epochs\n",
    "EPOCHS = 1000\n",
    "# Print the tensorflow version\n",
    "print(\"Tensorflow version\",tf.__version__)"
   ]
  },
  {
   "cell_type": "code",
   "execution_count": 2,
   "metadata": {},
   "outputs": [
    {
     "name": "stdout",
     "output_type": "stream",
     "text": [
      "Training inputs  [[0.0, 0.0], [0.0, 1.0], [1.0, 0.0], [1.0, 1.0]]\n",
      "Desired outputs  [[0.0], [1.0], [1.0], [0.0]]\n"
     ]
    }
   ],
   "source": [
    "# Path to training or evaluation file\n",
    "INPUT_FILE = \"data/xor-train.csv\"\n",
    "# Path to model file - weights will be saved here\n",
    "MODEL_FILE = \"data/xor-model\"\n",
    "# Model log file\n",
    "LOG_FILE = 'data/training-log.csv'\n",
    "# Array for the input features\n",
    "trainx = []\n",
    "# Array for the output labels/features\n",
    "trainy = []\n",
    "\n",
    "# Load inputs and labels from disk\n",
    "# NOTE: assumes 2 inputs followed by 1 label\n",
    "# NOTE: files assumed to be located in a data directory\n",
    "with open(INPUT_FILE, 'r') as csvfile:\n",
    "    input_data = csv.reader(csvfile, delimiter=',')\n",
    "    for row in input_data:\n",
    "        trainx.append([float(row[0]), float(row[1])])\n",
    "        trainy.append([float(row[2])])\n",
    "\n",
    "# the four different states of the XOR gate\n",
    "training_data = np.array(trainx, \"float32\")\n",
    "# the four expected results in the same order\n",
    "target_data = np.array(trainy, \"float32\")\n",
    "\n",
    "print('Training inputs ', trainx)\n",
    "print('Desired outputs ', trainy)"
   ]
  },
  {
   "cell_type": "code",
   "execution_count": 3,
   "metadata": {},
   "outputs": [],
   "source": [
    "# Clear any exiting network models\n",
    "backend.clear_session()\n",
    "# Setup a standard feed-forward network\n",
    "model = Sequential()\n",
    "# Setup the input layer 2 inputs with 10 connections to hidden nodes\n",
    "# The threshold function used will be sigmoid\n",
    "model.add(Dense(10, input_dim=2, activation='sigmoid', use_bias=True))\n",
    "# Setup the output layer with 1 node using sigmoid\n",
    "model.add(Dense(1, activation='sigmoid'))\n",
    "# Setup the learning algorithm - Standard Gradient Descent with learning rate and momentum\n",
    "opt = SGD(learning_rate=0.45, momentum=0.7)\n",
    "# Compile/build the model\n",
    "model.compile(optimizer= opt, loss='mse', metrics=['accuracy'])"
   ]
  },
  {
   "cell_type": "code",
   "execution_count": 4,
   "metadata": {},
   "outputs": [
    {
     "name": "stdout",
     "output_type": "stream",
     "text": [
      "Training finished...in  1.1632859706878662  seconds.\n"
     ]
    }
   ],
   "source": [
    "# Setup a log file for the model metrics error and accuracy\n",
    "csv_logger = CSVLogger(LOG_FILE)\n",
    "# Start a timer to time the training\n",
    "start = time.time()\n",
    "# Train the model\n",
    "model.fit(training_data, target_data, epochs=EPOCHS, verbose=0, callbacks=[csv_logger])\n",
    "# End the timer\n",
    "end = time.time() - start\n",
    "print(\"Training finished...in \", end, \" seconds.\")\n",
    "# Save the model to file\n",
    "model.save(MODEL_FILE)"
   ]
  },
  {
   "cell_type": "code",
   "execution_count": 5,
   "metadata": {},
   "outputs": [
    {
     "name": "stdout",
     "output_type": "stream",
     "text": [
      "[[0.06278527]\n",
      " [0.92280024]\n",
      " [0.9174374 ]\n",
      " [0.09396008]]\n"
     ]
    }
   ],
   "source": [
    "# What are the predictions after training, should be close to 0, 1, 1, 0\n",
    "print(model.predict(training_data))"
   ]
  },
  {
   "cell_type": "code",
   "execution_count": 6,
   "metadata": {},
   "outputs": [
    {
     "data": {
      "image/png": "[encoded data removed]",
      "text/plain": [
       "<Figure size 936x360 with 1 Axes>"
      ]
     },
     "metadata": {
      "needs_background": "light"
     },
     "output_type": "display_data"
    }
   ],
   "source": [
    "# Load the training log file and graph the reduction in error/loss\n",
    "training_df = pd.read_csv(LOG_FILE)\n",
    "\n",
    "# Plot the model error during training\n",
    "ax = training_df['loss'].plot(title='Training loss MSE')\n",
    "ax.set_xlabel('Epoch')\n",
    "ax.set_ylabel('Loss')\n",
    "plt.savefig(\"data/training_mse.pdf\")"
   ]
  },
  {
   "cell_type": "code",
   "execution_count": 7,
   "metadata": {},
   "outputs": [
    {
     "data": {
      "image/png": "[encoded data removed]",
      "text/plain": [
       "<Figure size 936x360 with 1 Axes>"
      ]
     },
     "metadata": {
      "needs_background": "light"
     },
     "output_type": "display_data"
    }
   ],
   "source": [
    "# Plot the model accuracy during training\n",
    "ax = training_df['accuracy'].plot(title='Training accuracy')\n",
    "ax.set_xlabel('Epoch')\n",
    "ax.set_ylabel('Accuracy')\n",
    "plt.savefig(\"data/training_accuracy.pdf\")"
   ]
  },
  {
   "cell_type": "code",
   "execution_count": 8,
   "metadata": {},
   "outputs": [
    {
     "name": "stdout",
     "output_type": "stream",
     "text": [
      "Final model accuracy is 100.0% and within tolerance of 10.0%\n"
     ]
    }
   ],
   "source": [
    "# Get the last row of the training log and retrieve the final model accuracy\n",
    "final_accuracy = training_df[-1:].iloc[0]['accuracy']\n",
    "# Are we within the TOLERANCE?\n",
    "percent_accuracy = str(final_accuracy*100) + \"%\"\n",
    "percent_tolerance = str(TOLERANCE*100) + \"%\"\n",
    "if (final_accuracy > (1.0 - TOLERANCE)):\n",
    "    print(\"Final model accuracy is \" + percent_accuracy + \" and within tolerance of \" + percent_tolerance)\n",
    "else:\n",
    "    print(\"Final model accuracy is \" + percent_accuracy + \" and is not within tolerance of \" + percent_tolerance)"
   ]
  }
 ],
 "metadata": {
  "kernelspec": {
   "display_name": "Python 3",
   "language": "python",
   "name": "python3"
  },
  "language_info": {
   "codemirror_mode": {
    "name": "ipython",
    "version": 3
   },
   "file_extension": ".py",
   "mimetype": "text/x-python",
   "name": "python",
   "nbconvert_exporter": "python",
   "pygments_lexer": "ipython3",
   "version": "3.8.3"
  }
 },
 "nbformat": 4,
 "nbformat_minor": 4
}
